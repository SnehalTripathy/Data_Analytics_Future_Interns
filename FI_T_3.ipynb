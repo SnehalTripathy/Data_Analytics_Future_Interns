{
  "nbformat": 4,
  "nbformat_minor": 0,
  "metadata": {
    "colab": {
      "provenance": []
    },
    "kernelspec": {
      "name": "python3",
      "display_name": "Python 3"
    },
    "language_info": {
      "name": "python"
    }
  },
  "cells": [
    {
      "cell_type": "code",
      "execution_count": null,
      "metadata": {
        "id": "Jet2E1aDRMwh"
      },
      "outputs": [],
      "source": [
        "# install libs (run in Colab)\n",
        "!pip install pandas matplotlib seaborn textblob vaderSentiment wordcloud nltk\n"
      ]
    },
    {
      "cell_type": "code",
      "source": [
        "import nltk\n",
        "nltk.download('punkt')\n",
        "nltk.download('stopwords')\n",
        "nltk.download('wordnet')\n",
        "nltk.download('omw-1.4')\n",
        "nltk.download('vader_lexicon')\n",
        "\n",
        "# For TextBlob (if needed)\n",
        "!python -m textblob.download_corpora\n"
      ],
      "metadata": {
        "id": "f2A6sDbJRmTF"
      },
      "execution_count": null,
      "outputs": []
    },
    {
      "cell_type": "code",
      "source": [
        "\n",
        "# from google.colab import files\n",
        "# uploaded = files.upload()  # click and upload your CSV file\n",
        "\n",
        "import io, pandas as pd\n",
        "# df = pd.read_csv(io.BytesIO(list(uploaded.values())[0]))\n",
        "# or if file name known:\n",
        "df = pd.read_csv('student_feedback.csv')\n",
        "df.head()\n",
        "df.info()\n",
        "\n",
        "\n",
        "\n",
        "df.columns\n",
        "df.shape\n",
        "df.describe(include='all')\n",
        "df.columns.tolist()\n",
        "df.columns = df.columns.str.strip().str.lower().str.replace(' ', '_')\n",
        "rating_cols = df.columns[2:]  # assuming first two columns are ID and index\n",
        "print(rating_cols)\n",
        "df['overall_rating'] = df[rating_cols].mean(axis=1)\n",
        "\n",
        "import seaborn as sns\n",
        "import matplotlib.pyplot as plt\n",
        "\n",
        "sns.histplot(df['overall_rating'], bins=5, kde=False)\n",
        "plt.title('Overall Rating Distribution')\n",
        "plt.xlabel('Average Rating (1-5)')\n",
        "plt.ylabel('Number of Students')\n",
        "plt.show()\n",
        "\n",
        "# 1. Normalize column names\n",
        "df.columns = df.columns.str.strip().str.lower().str.replace(' ', '_')\n",
        "\n",
        "# 2. Drop unnecessary index-like column\n",
        "if 'unnamed:_0' in df.columns:\n",
        "    df = df.drop(columns=['unnamed:_0'])\n",
        "\n",
        "# 3. Check for duplicates\n",
        "df = df.drop_duplicates()\n",
        "\n",
        "# 4. Handle missing values\n",
        "df.isna().sum()\n",
        "# If any missing in numeric columns, fill with mean or drop\n",
        "df = df.fillna(df.mean(numeric_only=True))\n",
        "\n",
        "rating_cols = df.columns[1:]  # from student_id onwards\n",
        "print(rating_cols)\n",
        "\n",
        "df['overall_rating'] = df[rating_cols].mean(axis=1)\n",
        "\n",
        "#EDA BEGINS...\n",
        "\n",
        "import matplotlib.pyplot as plt\n",
        "import seaborn as sns\n",
        "\n",
        "plt.figure(figsize=(6,4))\n",
        "sns.histplot(df['overall_rating'], bins=10, kde=False)\n",
        "plt.title('Overall Rating Distribution')\n",
        "plt.xlabel('Average Rating (1-5)')\n",
        "plt.ylabel('Number of Students')\n",
        "plt.show()\n",
        "\n",
        "avg_per_question = df[rating_cols].mean().sort_values(ascending=False)\n",
        "plt.figure(figsize=(8,5))\n",
        "sns.barplot(x=avg_per_question.values, y=avg_per_question.index)\n",
        "plt.title('Average Rating per Feedback Question')\n",
        "plt.xlabel('Average Score (1-5)')\n",
        "plt.ylabel('Question')\n",
        "plt.show()\n",
        "\n",
        "plt.figure(figsize=(10,6))\n",
        "sns.boxplot(data=df[rating_cols])\n",
        "plt.xticks(rotation=45, ha='right')\n",
        "plt.title('Distribution of Ratings for Each Question')\n",
        "plt.show()\n",
        "\n",
        "\n",
        "strengths = avg_per_question.head(3)\n",
        "weaknesses = avg_per_question.tail(3)\n",
        "\n",
        "print(\"Top strengths:\")\n",
        "print(strengths)\n",
        "\n",
        "print(\"\\nAreas to improve:\")\n",
        "print(weaknesses)\n",
        "\n",
        "\n",
        "\n",
        "\n"
      ],
      "metadata": {
        "id": "ByTpKDQ7Rskf"
      },
      "execution_count": null,
      "outputs": []
    },
    {
      "cell_type": "code",
      "source": [
        "strengths = avg_per_question.head(3)\n",
        "weaknesses = avg_per_question.tail(3)\n",
        "\n",
        "print(\"Top strengths:\")\n",
        "print(strengths)\n",
        "\n",
        "print(\"\\nAreas to improve:\")\n",
        "print(weaknesses)"
      ],
      "metadata": {
        "colab": {
          "base_uri": "https://localhost:8080/"
        },
        "id": "TQNgYZDjVGPH",
        "outputId": "a20031d6-e2fe-40dd-a1c2-1b3b87f49bce"
      },
      "execution_count": 17,
      "outputs": [
        {
          "output_type": "stream",
          "name": "stdout",
          "text": [
            "Top strengths:\n",
            "well_versed_with_the_subject                  7.497502\n",
            "explains_concepts_in_an_understandable_way    6.081918\n",
            "use_of_presentations                          5.942058\n",
            "dtype: float64\n",
            "\n",
            "Areas to improve:\n",
            "course_recommendation_based_on_relevance    5.598402\n",
            "solves_doubts_willingly                     5.474525\n",
            "degree_of_difficulty_of_assignments         5.430569\n",
            "dtype: float64\n"
          ]
        }
      ]
    },
    {
      "cell_type": "code",
      "source": [
        "if 'department' in df.columns:\n",
        "    sns.barplot(x='department', y='overall_rating', data=df)\n",
        "    plt.title('Overall Rating by Department')\n",
        "    plt.xticks(rotation=45)\n",
        "    plt.show()\n",
        "\n",
        "\n",
        "\n"
      ],
      "metadata": {
        "id": "Uolyh3dBVJHZ"
      },
      "execution_count": null,
      "outputs": []
    },
    {
      "cell_type": "code",
      "source": [
        "corr = df[rating_cols].corr()\n",
        "\n",
        "plt.figure(figsize=(8,6))\n",
        "sns.heatmap(corr, annot=True, cmap='coolwarm', fmt=\".2f\")\n",
        "plt.title('Correlation Between Feedback Questions')\n",
        "plt.show()"
      ],
      "metadata": {
        "id": "hiB-kh83VRho"
      },
      "execution_count": null,
      "outputs": []
    },
    {
      "cell_type": "code",
      "source": [
        "recommendations = []\n",
        "for q in weaknesses.index:\n",
        "    recommendations.append(f\"Improve '{q.replace('_',' ').capitalize()}' — current avg score {weaknesses[q]:.2f}/5.\")\n",
        "\n",
        "print(\"\\nRecommendations:\")\n",
        "for rec in recommendations:\n",
        "    print(\"-\", rec)\n"
      ],
      "metadata": {
        "colab": {
          "base_uri": "https://localhost:8080/"
        },
        "id": "FRoUH0__VW8x",
        "outputId": "36310ee4-f0a3-47ea-d583-d4eafe5f8036"
      },
      "execution_count": 22,
      "outputs": [
        {
          "output_type": "stream",
          "name": "stdout",
          "text": [
            "\n",
            "Recommendations:\n",
            "- Improve 'Course recommendation based on relevance' — current avg score 5.60/5.\n",
            "- Improve 'Solves doubts willingly' — current avg score 5.47/5.\n",
            "- Improve 'Degree of difficulty of assignments' — current avg score 5.43/5.\n"
          ]
        }
      ]
    }
  ]
}